{
 "cells": [
  {
   "cell_type": "markdown",
   "metadata": {},
   "source": [
    "# 1. Reading From Dataset\n",
    "First and foremost, we need a dataset to train our model. We can easily read the dataset thanks to [Hossein Zaredar](https://github.com/HosseinZaredar/Computational-Intelligence/blob/main/read_MNIST.py)'s help"
   ]
  },
  {
   "cell_type": "code",
   "execution_count": 1,
   "metadata": {},
   "outputs": [],
   "source": [
    "import numpy as np\n",
    "import matplotlib.pyplot as plt\n",
    "\n",
    "NUMBER_OF_PIXELS = 784"
   ]
  },
  {
   "cell_type": "markdown",
   "metadata": {},
   "source": [
    "To read from the files, we construct a function named `read_from_file` that does nothing but that.We know where to look for each data based on the information given by MNIST"
   ]
  },
  {
   "cell_type": "code",
   "execution_count": 2,
   "metadata": {},
   "outputs": [],
   "source": [
    "def read_from_file(image_address, label_address):\n",
    "    images_file = open(image_address, 'rb')\n",
    "    images_file.seek(4)  # Positions the cursor to the 4th byte.\n",
    "    number_of_images = int.from_bytes(images_file.read(4), 'big')  # reads 4 bytes in big endian order\n",
    "    images_file.seek(16)  # Positions the cursor to the 16th byte.\n",
    "    \n",
    "    labels_file = open(label_address, 'rb')\n",
    "    labels_file.seek(8)\n",
    "    \n",
    "    result_set = []\n",
    "    for n in range(number_of_images):\n",
    "        image = np.zeros((NUMBER_OF_PIXELS, 1))\n",
    "        for i in range(NUMBER_OF_PIXELS):\n",
    "            image[i, 0] = int.from_bytes(images_file.read(1), 'big') / 255\n",
    "\n",
    "        label_value = int.from_bytes(labels_file.read(1), 'big')\n",
    "        label = np.zeros((10, 1))  # Since we have 10 numbers from 0 to 9\n",
    "        label[label_value, 0] = 1\n",
    "\n",
    "        result_set.append((image, label))\n",
    "    \n",
    "    return result_set"
   ]
  },
  {
   "cell_type": "markdown",
   "metadata": {},
   "source": [
    "then we call that function to create our train & test set"
   ]
  },
  {
   "cell_type": "code",
   "execution_count": 3,
   "metadata": {},
   "outputs": [],
   "source": [
    "train_set = read_from_file(\"digit_images/train-images.idx3-ubyte\", \"digit_images/train-labels.idx1-ubyte\")\n",
    "test_set = read_from_file(\"digit_images/t10k-images.idx3-ubyte\", \"digit_images/t10k-labels.idx1-ubyte\")"
   ]
  },
  {
   "cell_type": "markdown",
   "metadata": {},
   "source": [
    "At the end of this section, we plot an image just to make sure we've done this part rightly."
   ]
  },
  {
   "cell_type": "code",
   "execution_count": 4,
   "metadata": {},
   "outputs": [
    {
     "data": {
      "text/plain": [
       "array([[0.],\n",
       "       [0.],\n",
       "       [0.],\n",
       "       [0.],\n",
       "       [0.],\n",
       "       [1.],\n",
       "       [0.],\n",
       "       [0.],\n",
       "       [0.],\n",
       "       [0.]])"
      ]
     },
     "execution_count": 4,
     "metadata": {},
     "output_type": "execute_result"
    },
    {
     "data": {
      "image/png": "[encoded data removed]",
      "text/plain": [
       "<Figure size 432x288 with 1 Axes>"
      ]
     },
     "metadata": {
      "needs_background": "light"
     },
     "output_type": "display_data"
    }
   ],
   "source": [
    "plt.imshow(train_set[0][0].reshape(28, -1), 'gray')\n",
    "train_set[0][1]"
   ]
  },
  {
   "cell_type": "code",
   "execution_count": null,
   "metadata": {},
   "outputs": [],
   "source": []
  }
 ],
 "metadata": {
  "kernelspec": {
   "display_name": "Python 3",
   "language": "python",
   "name": "python3"
  },
  "language_info": {
   "codemirror_mode": {
    "name": "ipython",
    "version": 3
   },
   "file_extension": ".py",
   "mimetype": "text/x-python",
   "name": "python",
   "nbconvert_exporter": "python",
   "pygments_lexer": "ipython3",
   "version": "3.8.5"
  }
 },
 "nbformat": 4,
 "nbformat_minor": 4
}
